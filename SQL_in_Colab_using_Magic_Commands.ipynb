{
  "nbformat": 4,
  "nbformat_minor": 0,
  "metadata": {
    "colab": {
      "provenance": []
    },
    "kernelspec": {
      "name": "python3",
      "display_name": "Python 3"
    },
    "language_info": {
      "name": "python"
    }
  },
  "cells": [
    {
      "cell_type": "markdown",
      "source": [
        "**SQL in Colab using Magic Commands**"
      ],
      "metadata": {
        "id": "3eLOV_GRgL_2"
      }
    },
    {
      "cell_type": "markdown",
      "source": [
        "Google Colaboratory(aka google colab) is an online notebook environment that runs on Google Cloud"
      ],
      "metadata": {
        "id": "epRoMJdzjxrC"
      }
    },
    {
      "cell_type": "markdown",
      "source": [
        "Magic commands are a feature of IPython that provides a set of commands to solve common problems while working with data. SQL magic command is one such command that lets you write SQL Queries in your notebook"
      ],
      "metadata": {
        "id": "voVHiPdlh57O"
      }
    },
    {
      "cell_type": "code",
      "source": [
        "# install ipython-sql\n",
        "!pip install ipython-sql"
      ],
      "metadata": {
        "id": "eq9HO_xohha4"
      },
      "execution_count": null,
      "outputs": []
    },
    {
      "cell_type": "code",
      "execution_count": 1,
      "metadata": {
        "id": "0fZqnHENey7I"
      },
      "outputs": [],
      "source": [
        "# We will first load an sql extension into our environment\n",
        "# This extension will allow us to work with sql on Colaboratory\n",
        "%load_ext sql\n",
        "\n",
        "# We will then connect to our in memory sqlite database\n",
        "# NB: This database will cease to exist as soon as the database connection is closed.\n",
        "%sql sqlite://"
      ]
    },
    {
      "cell_type": "markdown",
      "source": [
        "You can now write SQL queries using the %sql or %%sql magic command. % is for single line commands and %% is for multi-line commands that run the whole cell as SQL"
      ],
      "metadata": {
        "id": "yOEmLWgii6C_"
      }
    },
    {
      "cell_type": "code",
      "source": [
        "%%sql\n",
        "\n",
        "CREATE TABLE celebs (\n",
        "    ID INTEGER,\n",
        "    name TEXT,\n",
        "    age INTEGER\n",
        ");\n",
        "\n",
        "SELECT * FROM celebs"
      ],
      "metadata": {
        "colab": {
          "base_uri": "https://localhost:8080/",
          "height": 92
        },
        "id": "2X_EugoJgLlt",
        "outputId": "7e05130e-182e-415a-cd2e-41d0b08d0422"
      },
      "execution_count": 2,
      "outputs": [
        {
          "output_type": "stream",
          "name": "stdout",
          "text": [
            " * sqlite://\n",
            "Done.\n",
            "Done.\n"
          ]
        },
        {
          "output_type": "execute_result",
          "data": {
            "text/plain": [
              "[]"
            ],
            "text/html": [
              "<table>\n",
              "    <thead>\n",
              "        <tr>\n",
              "            <th>ID</th>\n",
              "            <th>name</th>\n",
              "            <th>age</th>\n",
              "        </tr>\n",
              "    </thead>\n",
              "    <tbody>\n",
              "    </tbody>\n",
              "</table>"
            ]
          },
          "metadata": {},
          "execution_count": 2
        }
      ]
    },
    {
      "cell_type": "code",
      "source": [
        "%%sql\n",
        "\n",
        "INSERT INTO celebs(ID, name, age)\n",
        "VALUES (1, 'J Cole', 36);"
      ],
      "metadata": {
        "colab": {
          "base_uri": "https://localhost:8080/"
        },
        "id": "905Q6pEAgpyV",
        "outputId": "383afd49-cc09-4036-e3dd-52d1979af14d"
      },
      "execution_count": 4,
      "outputs": [
        {
          "output_type": "stream",
          "name": "stdout",
          "text": [
            " * sqlite://\n",
            "1 rows affected.\n"
          ]
        },
        {
          "output_type": "execute_result",
          "data": {
            "text/plain": [
              "[]"
            ]
          },
          "metadata": {},
          "execution_count": 4
        }
      ]
    },
    {
      "cell_type": "code",
      "source": [
        "%%sql\n",
        "\n",
        "SELECT * FROM celebs"
      ],
      "metadata": {
        "colab": {
          "base_uri": "https://localhost:8080/",
          "height": 96
        },
        "id": "qFR1D9w6g0M8",
        "outputId": "e9740d64-8cfb-4782-a4c7-3f2a5c9dd6a7"
      },
      "execution_count": 5,
      "outputs": [
        {
          "output_type": "stream",
          "name": "stdout",
          "text": [
            " * sqlite://\n",
            "Done.\n"
          ]
        },
        {
          "output_type": "execute_result",
          "data": {
            "text/plain": [
              "[(1, 'J Cole', 36)]"
            ],
            "text/html": [
              "<table>\n",
              "    <thead>\n",
              "        <tr>\n",
              "            <th>ID</th>\n",
              "            <th>name</th>\n",
              "            <th>age</th>\n",
              "        </tr>\n",
              "    </thead>\n",
              "    <tbody>\n",
              "        <tr>\n",
              "            <td>1</td>\n",
              "            <td>J Cole</td>\n",
              "            <td>36</td>\n",
              "        </tr>\n",
              "    </tbody>\n",
              "</table>"
            ]
          },
          "metadata": {},
          "execution_count": 5
        }
      ]
    }
  ]
}